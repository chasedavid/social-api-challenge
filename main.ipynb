{
 "cells": [
  {
   "cell_type": "code",
   "execution_count": 1,
   "metadata": {},
   "outputs": [],
   "source": [
    "#dependencies\n",
    "import tweepy\n",
    "import numpy as np\n",
    "import pandas as pd\n",
    "from datetime import datetime\n",
    "#for graphing\n",
    "import matplotlib.pyplot as plt\n",
    "from pprint import pprint\n",
    "from random import randint \n",
    "from datetime import datetime\n",
    "\n",
    "#VADER for sentiment analysis\n",
    "from vaderSentiment.vaderSentiment import SentimentIntensityAnalyzer\n",
    "analyzer = SentimentIntensityAnalyzer()"
   ]
  },
  {
   "cell_type": "code",
   "execution_count": 2,
   "metadata": {},
   "outputs": [],
   "source": [
    "#retrieve keys for Twitter API\n",
    "from config import (consumer_key, \n",
    "                    consumer_secret, \n",
    "                    access_token, \n",
    "                    access_token_secret)\n",
    "\n",
    "#set up keys\n",
    "auth = tweepy.OAuthHandler(consumer_key, consumer_secret)\n",
    "auth.set_access_token(access_token, access_token_secret)\n",
    "api = tweepy.API(auth, parser=tweepy.parsers.JSONParser())"
   ]
  },
  {
   "cell_type": "code",
   "execution_count": 3,
   "metadata": {},
   "outputs": [],
   "source": [
    "#functions to pull from call to anazlye twitter handle\n",
    "def extract_target(string):\n",
    "    lngth = len(string)\n",
    "    i = lngth - 1\n",
    "    while string[i] != '@':\n",
    "        i -= 1\n",
    "    return (string[i:lngth])"
   ]
  },
  {
   "cell_type": "code",
   "execution_count": 4,
   "metadata": {},
   "outputs": [],
   "source": [
    "#function to pull text from target twitter handle/ returns DataFrame of sentiment analysis and text\n",
    "def tweet_sentiment(account_id):\n",
    "    target = account_id\n",
    "    \n",
    "    #store list of text from tweets (for testing purposes)\n",
    "    texts = []\n",
    "    #create list of scores\n",
    "    compound = []\n",
    "    positive = []\n",
    "    negative = []\n",
    "    neutral = []\n",
    "    created_at = []\n",
    "    \n",
    "    #create counter and list of index corresponing with how many text ago\n",
    "    counter = -1\n",
    "    ctrs = []\n",
    "    \n",
    "    #reference for oldest tweet\n",
    "    oldest_tweet = None\n",
    "    \n",
    "    #iterate through 5 pages of 100: range(5), count=100\n",
    "    for x in range(5):\n",
    "        public_tweets = api.user_timeline(target, \n",
    "                                          max_id = oldest_tweet, \n",
    "                                          count=100,\n",
    "                                         page=x)\n",
    "        \n",
    "        #iterate through public tweets\n",
    "        for tweet in public_tweets:\n",
    "            #store text in variable\n",
    "            texts.append(tweet['text'])\n",
    "            created_at.append(tweet['created_at'])\n",
    "            \n",
    "            #analyze text for sentiment => store values accoringingly\n",
    "            scores = analyzer.polarity_scores(tweet['text'])\n",
    "            compound.append(scores['compound'])\n",
    "            positive.append(scores['pos'])\n",
    "            negative.append(scores['neg'])\n",
    "            neutral.append(scores['neu'])\n",
    "            \n",
    "            #decriment counter and append list into counter, \n",
    "            ctrs.append(counter)\n",
    "            counter -= 1\n",
    "            oldest_tweet = tweet['id'] - 1\n",
    "    \n",
    "    #build result data frame \n",
    "    result_df = pd.DataFrame({\n",
    "        'tweet_index':ctrs,\n",
    "        'comp':compound,\n",
    "        'positive':positive,\n",
    "        'negative':negative,\n",
    "        'neutral':neutral,\n",
    "        'text': texts,\n",
    "        'created_at':created_at\n",
    "    })\n",
    "    #save data frame as csv\n",
    "    result_df.to_csv('./data/target.csv')\n",
    "    \n",
    "    return (result_df)"
   ]
  },
  {
   "cell_type": "code",
   "execution_count": 5,
   "metadata": {},
   "outputs": [],
   "source": [
    "def graph_df(df, target):\n",
    "    cur_date = datetime.now().strftime('%x %X')\n",
    "\n",
    "    plt.plot(df.tweet_index, \n",
    "             df.comp, \n",
    "             marker='o',\n",
    "             alpha=0.75,\n",
    "            linewidth=0.4)\n",
    "\n",
    "    #labels on graph\n",
    "    plt.title(f\"New Tweet Analysis: {target} ({cur_date})\")\n",
    "    plt.xlabel(\"Tweets Ago\")\n",
    "    plt.ylabel(\"Tweet Polarity\")\n",
    "\n",
    "    #save fig\n",
    "    plt.savefig('./figs/figure.png')\n",
    "\n",
    "    #plt.hlines(y=0, xmin=-25, xmax=0)\n",
    "    plt.show()\n",
    "    "
   ]
  },
  {
   "cell_type": "code",
   "execution_count": 6,
   "metadata": {},
   "outputs": [
    {
     "ename": "RateLimitError",
     "evalue": "[{'message': 'Rate limit exceeded', 'code': 88}]",
     "output_type": "error",
     "traceback": [
      "\u001b[0;31m----------------------------------------------------\u001b[0m",
      "\u001b[0;31mRateLimitError\u001b[0m     Traceback (most recent call last)",
      "\u001b[0;32m<ipython-input-6-c733b5ac50d0>\u001b[0m in \u001b[0;36m<module>\u001b[0;34m()\u001b[0m\n\u001b[1;32m     10\u001b[0m \u001b[0;32mwhile\u001b[0m\u001b[0;34m(\u001b[0m\u001b[0;32mTrue\u001b[0m\u001b[0;34m)\u001b[0m\u001b[0;34m:\u001b[0m\u001b[0;34m\u001b[0m\u001b[0m\n\u001b[1;32m     11\u001b[0m     \u001b[0;31m#make an api call to check twitter page\u001b[0m\u001b[0;34m\u001b[0m\u001b[0;34m\u001b[0m\u001b[0m\n\u001b[0;32m---> 12\u001b[0;31m     \u001b[0mcheck\u001b[0m \u001b[0;34m=\u001b[0m \u001b[0mapi\u001b[0m\u001b[0;34m.\u001b[0m\u001b[0msearch\u001b[0m\u001b[0;34m(\u001b[0m\u001b[0;34m'@chasethedavid'\u001b[0m\u001b[0;34m,\u001b[0m \u001b[0msince_id\u001b[0m\u001b[0;34m=\u001b[0m\u001b[0mlast_checked\u001b[0m\u001b[0;34m)\u001b[0m\u001b[0;34m\u001b[0m\u001b[0m\n\u001b[0m",
      "\u001b[0;32m~/anaconda3/envs/PythonData/lib/python3.6/site-packages/tweepy/binder.py\u001b[0m in \u001b[0;36m_call\u001b[0;34m(*args, **kwargs)\u001b[0m\n\u001b[1;32m    248\u001b[0m             \u001b[0;32mreturn\u001b[0m \u001b[0mmethod\u001b[0m\u001b[0;34m\u001b[0m\u001b[0m\n\u001b[1;32m    249\u001b[0m         \u001b[0;32melse\u001b[0m\u001b[0;34m:\u001b[0m\u001b[0;34m\u001b[0m\u001b[0m\n\u001b[0;32m--> 250\u001b[0;31m             \u001b[0;32mreturn\u001b[0m \u001b[0mmethod\u001b[0m\u001b[0;34m.\u001b[0m\u001b[0mexecute\u001b[0m\u001b[0;34m(\u001b[0m\u001b[0;34m)\u001b[0m\u001b[0;34m\u001b[0m\u001b[0m\n\u001b[0m\u001b[1;32m    251\u001b[0m \u001b[0;34m\u001b[0m\u001b[0m\n\u001b[1;32m    252\u001b[0m     \u001b[0;31m# Set pagination mode\u001b[0m\u001b[0;34m\u001b[0m\u001b[0;34m\u001b[0m\u001b[0m\n",
      "\u001b[0;32m~/anaconda3/envs/PythonData/lib/python3.6/site-packages/tweepy/binder.py\u001b[0m in \u001b[0;36mexecute\u001b[0;34m(self)\u001b[0m\n\u001b[1;32m    230\u001b[0m \u001b[0;34m\u001b[0m\u001b[0m\n\u001b[1;32m    231\u001b[0m                 \u001b[0;32mif\u001b[0m \u001b[0mis_rate_limit_error_message\u001b[0m\u001b[0;34m(\u001b[0m\u001b[0merror_msg\u001b[0m\u001b[0;34m)\u001b[0m\u001b[0;34m:\u001b[0m\u001b[0;34m\u001b[0m\u001b[0m\n\u001b[0;32m--> 232\u001b[0;31m                     \u001b[0;32mraise\u001b[0m \u001b[0mRateLimitError\u001b[0m\u001b[0;34m(\u001b[0m\u001b[0merror_msg\u001b[0m\u001b[0;34m,\u001b[0m \u001b[0mresp\u001b[0m\u001b[0;34m)\u001b[0m\u001b[0;34m\u001b[0m\u001b[0m\n\u001b[0m\u001b[1;32m    233\u001b[0m                 \u001b[0;32melse\u001b[0m\u001b[0;34m:\u001b[0m\u001b[0;34m\u001b[0m\u001b[0m\n\u001b[1;32m    234\u001b[0m                     \u001b[0;32mraise\u001b[0m \u001b[0mTweepError\u001b[0m\u001b[0;34m(\u001b[0m\u001b[0merror_msg\u001b[0m\u001b[0;34m,\u001b[0m \u001b[0mresp\u001b[0m\u001b[0;34m,\u001b[0m \u001b[0mapi_code\u001b[0m\u001b[0;34m=\u001b[0m\u001b[0mapi_error_code\u001b[0m\u001b[0;34m)\u001b[0m\u001b[0;34m\u001b[0m\u001b[0m\n",
      "\u001b[0;31mRateLimitError\u001b[0m: [{'message': 'Rate limit exceeded', 'code': 88}]"
     ]
    }
   ],
   "source": [
    "##end of funcitons - beginning of main\n",
    "\n",
    "#create variables to store past analyzed accounts, \n",
    "past_accounts = []\n",
    "target = ''\n",
    "#reference to a test posting to test if code works as desired\n",
    "last_checked='1048732048163106816'\n",
    "\n",
    "\n",
    "while(True):\n",
    "    #make an api call to check twitter page\n",
    "    check = api.search('@chasethedavid', since_id=last_checked)"
   ]
  },
  {
   "cell_type": "code",
   "execution_count": null,
   "metadata": {},
   "outputs": [],
   "source": [
    "    #check if there is a text, and confirm not @chasethedavid (handle of bot)\n",
    "    if check['statuses'][0]['text'] and extract_target(check['statuses'][0]['text']).strip(' ') != '@chasethedavid':\n",
    "        target = extract_target(check['statuses'][0]['text']).strip(' ')\n",
    "    else:\n",
    "        api.update_status(\"I'm sorry, the desired account has not found.\")\n",
    "\n",
    "    #check to see if analyzed in past\n",
    "    if target not in past_accounts:\n",
    "        df = tweet_sentiment(target)\n",
    "        graph_df(df, target)\n",
    "        api.update_with_media('./figs/figure.png')\n",
    "        past_accounts.append(target)\n",
    "    else:\n",
    "        api.update_status(\"That account has been anazlyzed\")\n",
    "     "
   ]
  },
  {
   "cell_type": "code",
   "execution_count": null,
   "metadata": {},
   "outputs": [],
   "source": [
    "    #update reference to last text analyzed\n",
    "    if int(check['statuses'][0]['id']) > int(last_checked):\n",
    "        last_checked = check['statuses'][0]['id']\n",
    "    "
   ]
  },
  {
   "cell_type": "code",
   "execution_count": null,
   "metadata": {},
   "outputs": [],
   "source": [
    "    #wait 5 minutes between scanning for mentions\n",
    "    time.sleep(300)"
   ]
  },
  {
   "cell_type": "code",
   "execution_count": null,
   "metadata": {},
   "outputs": [],
   "source": []
  }
 ],
 "metadata": {
  "kernelspec": {
   "display_name": "Python 3",
   "language": "python",
   "name": "python3"
  },
  "language_info": {
   "codemirror_mode": {
    "name": "ipython",
    "version": 3
   },
   "file_extension": ".py",
   "mimetype": "text/x-python",
   "name": "python",
   "nbconvert_exporter": "python",
   "pygments_lexer": "ipython3",
   "version": "3.6.5"
  }
 },
 "nbformat": 4,
 "nbformat_minor": 2
}
